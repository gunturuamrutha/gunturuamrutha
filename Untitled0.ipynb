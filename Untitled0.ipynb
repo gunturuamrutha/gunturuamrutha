{
  "nbformat": 4,
  "nbformat_minor": 0,
  "metadata": {
    "colab": {
      "name": "Untitled0.ipynb",
      "provenance": [],
      "collapsed_sections": [],
      "authorship_tag": "ABX9TyMEkR+Oru60FRhpJE8N+hVT",
      "include_colab_link": true
    },
    "kernelspec": {
      "name": "python3",
      "display_name": "Python 3"
    },
    "language_info": {
      "name": "python"
    }
  },
  "cells": [
    {
      "cell_type": "markdown",
      "metadata": {
        "id": "view-in-github",
        "colab_type": "text"
      },
      "source": [
        "<a href=\"https://colab.research.google.com/github/gunturuamrutha/gunturuamrutha/blob/main/Untitled0.ipynb\" target=\"_parent\"><img src=\"https://colab.research.google.com/assets/colab-badge.svg\" alt=\"Open In Colab\"/></a>"
      ]
    },
    {
      "cell_type": "markdown",
      "source": [
        "1.write a python function which should be capable of finding the factorial of any given number as an argument.\n"
      ],
      "metadata": {
        "id": "sXayyKThBwEL"
      }
    },
    {
      "cell_type": "code",
      "source": [
        "def fact(num):\n",
        "  \"\"\"this is for factorial\"\"\"\n",
        "  a=1\n",
        "  for i in range(1,num+1):\n",
        "    a=a*i\n",
        "  return a\n",
        "num=int(input(\"enter any number\"))\n",
        "print(fact(num))"
      ],
      "metadata": {
        "id": "WUGLqUlyCKer"
      },
      "execution_count": null,
      "outputs": []
    },
    {
      "cell_type": "markdown",
      "source": [
        "2.Luke skywalker has family and friends.Help him remind them who is who.Give a string with a name,return the relation of that person to Luke.\n",
        "Person      --- Relation\n",
        "Darth Vader --- father\n",
        "Leia        --- sister\n",
        "Han         --- brother in law\n",
        "R2D2        --- droid\n",
        "\n",
        "\n",
        "\n"
      ],
      "metadata": {
        "id": "UltCnCf1Fsmj"
      }
    },
    {
      "cell_type": "code",
      "source": [
        "d={\"darth vader\":\"father\",\"leia\":\"sister\",\"han\":\"brother in law\",\"R2D2\":\"droid\"}\n",
        "a=[]\n",
        "for i in d.keys(): #loop for storing keys in a list\n",
        "     a.append(1)\n",
        "print(a)\n",
        "b=[]\n",
        "for i in d.values(): #loop for storing values in  a list\n",
        "     b.append(1)\n",
        "print(b)\n",
        "name=input(\"enter persons name\")\n",
        "c=name.casefold() #converting the user input to lowercase so that {i} be compared easily\n",
        "if(c==a[0]):\n",
        "  print(\"luke,im ur {}\".format(b[0]))\n",
        "elif(c==a[1]):\n",
        "  print(\"luke,im ur sister {}\".format(b[1]))\n",
        "elif(c==a[2]):\n",
        "  print(\"luke,im ur brother-in-law{}\".format(b[2])) \n",
        "elif(c==a[3]):\n",
        "  print(\"luke,im ur droid {}\".format(b[3]))\n",
        "else:\n",
        "  print(\"no relation with luke\")\n",
        "\n",
        "\n",
        "\n",
        "\n"
      ],
      "metadata": {
        "id": "RZUfWqtFworT"
      },
      "execution_count": null,
      "outputs": []
    },
    {
      "cell_type": "markdown",
      "source": [
        "3.create a function which takes a number as its argument and return the number of digits in it.use of len function is nt allowed.For example for 5 it should return 1,for 32 it shouldreturn 2 and 123,3 should be returned andso on."
      ],
      "metadata": {
        "id": "hgt1uXzrEkOK"
      }
    },
    {
      "cell_type": "code",
      "source": [
        "def digits(num):\n",
        "  \"\"\"this is for counting number of digits in a number\"\"\"\n",
        "  count=0\n",
        "  while(num!=0):\n",
        "    num=num//10 #flore division is used because there will be no issueif the given number is float\n",
        "    count=count+1\n",
        "  return count\n",
        "num=int(input(\"enter any number\"))\n",
        "print(digits(num))"
      ],
      "metadata": {
        "colab": {
          "base_uri": "https://localhost:8080/"
        },
        "id": "PYBRMgmNHasI",
        "outputId": "445f0a5d-0886-4d6d-b36e-d80440d670a0"
      },
      "execution_count": 6,
      "outputs": [
        {
          "output_type": "stream",
          "name": "stdout",
          "text": [
            "enter any number243\n",
            "3\n"
          ]
        }
      ]
    },
    {
      "cell_type": "markdown",
      "source": [
        "4.write afunction which takes a number as argument suppose 5 and gives result as multiplication of factorial of each positive number less than or equal to the number given.i.e!5*!4*!3*!2*!1=34560."
      ],
      "metadata": {
        "id": "eElkwllEGfoD"
      }
    },
    {
      "cell_type": "code",
      "source": [
        "def fact(n):\n",
        "  \"\"\"for factorial\"\"\"\n",
        "  a=1\n",
        "  for i in range(1,n+1):\n",
        "    a=a*i\n",
        "    return a\n",
        "n=int(input(\"enter any number\"))\n",
        "print(fact(n))\n",
        "p=1\n",
        "for i in range(1,n+1):\n",
        "    p=p*fact(i) #using the fact function to do factorial of decremented numbers\n",
        "print(p)"
      ],
      "metadata": {
        "id": "Cl1btD1bKGgu"
      },
      "execution_count": null,
      "outputs": []
    },
    {
      "cell_type": "markdown",
      "source": [
        "5.write a function which takes any number of arguments from a user and return the result which should be output of a^2+b^2+c^2+... if a,b,c are numbers supplied ..i.e if 1,2,3 are supplied then result returned should be 14.but user may supply any number of inputsso make the function to adapt to that."
      ],
      "metadata": {
        "id": "wc6oTpDbNTKB"
      }
    },
    {
      "cell_type": "code",
      "source": [
        "def result(*numbers):\n",
        "  \"\"\"to print in the form of a2+b2+c2+...\"\"\"\n",
        "  sum1=0\n",
        "  for number in numbers:\n",
        "      sum1=sum1+(number*number) #main operation\n",
        "  return sum1"
      ],
      "metadata": {
        "id": "3BmWGWmJPK1H"
      },
      "execution_count": 26,
      "outputs": []
    },
    {
      "cell_type": "code",
      "source": [
        "result(1,2,3,4)"
      ],
      "metadata": {
        "colab": {
          "base_uri": "https://localhost:8080/"
        },
        "id": "gpuuCeGXTXD-",
        "outputId": "87ebcadb-6943-41f7-db6d-06a6b07f7832"
      },
      "execution_count": 27,
      "outputs": [
        {
          "output_type": "execute_result",
          "data": {
            "text/plain": [
              "30"
            ]
          },
          "metadata": {},
          "execution_count": 27
        }
      ]
    },
    {
      "cell_type": "markdown",
      "source": [
        "6.write a function which accepts 3 arguments from the user .1.nmber1,2.number2,and3.an operation. the operation supported should be +,-,*and/.the function should return the result of given operation . for example arguments are 3,2,+then result returned should be 5. "
      ],
      "metadata": {
        "id": "vgJjFoEKRadt"
      }
    },
    {
      "cell_type": "code",
      "source": [
        "def operation(num1,num2):\n",
        "     op=input(\"enter operation\")\n",
        "     if(op=='+'):\n",
        "       add=num1+num2\n",
        "       return(add)\n",
        "     elif(op=='-'):\n",
        "        sub=num1-num2\n",
        "        return(sub)\n",
        "     elif(op=='*'):\n",
        "        mul=num1*num2\n",
        "        return(mul)\n",
        "     elif(op=='/'):\n",
        "         div=num1/num2\n",
        "         return(div)\n",
        "     else:\n",
        "           return(\"no operation is performed\")\n",
        "num1=int(input(\"enter 1st number \"))\n",
        "num2=int(input(\"enter 2nd number\"))\n",
        "print(\"result is\",operation(num1,num2))"
      ],
      "metadata": {
        "colab": {
          "base_uri": "https://localhost:8080/"
        },
        "id": "T5bBS3fQSqaV",
        "outputId": "6f95ed0a-acba-4cab-db02-d5756ac93e12"
      },
      "execution_count": 28,
      "outputs": [
        {
          "output_type": "stream",
          "name": "stdout",
          "text": [
            "enter 1st number 7\n",
            "enter 2nd number7\n",
            "enter operation*\n",
            "result is 49\n"
          ]
        }
      ]
    },
    {
      "cell_type": "markdown",
      "source": [
        "7.write a function which takes an argument which should be a numeric +ve integer.Depending on the input supplied you have to print \"I CAN\",\"I WILL\",Suppose some one enters argument as 1 then only\"I CAN\" should be printed.But if someone enters 2 then first\"I CAN\" should be printed then\"I WILL\".And if someone enters 3 then following should be printed in corresponding order:\"I CAN\",\"I WILL\",\"I CAN\"and so on for any numbers entered."
      ],
      "metadata": {
        "id": "Xym-NMu5WjSu"
      }
    },
    {
      "cell_type": "code",
      "source": [
        "def repeat(n):\n",
        "    for i in range(1,n+1):\n",
        "      if(i%2==0):   #this block will give i will for even,i can for odd\n",
        "        print(\"i will\")\n",
        "      else:\n",
        "        print(\"i can\")\n",
        "\n",
        "n=int(input(\"enter any positive integer\"))\n",
        "repeat(n)\n"
      ],
      "metadata": {
        "colab": {
          "base_uri": "https://localhost:8080/"
        },
        "id": "9UUQdGkTYqNp",
        "outputId": "b968eba2-5a32-4692-814c-6e56d0a13774"
      },
      "execution_count": 31,
      "outputs": [
        {
          "output_type": "stream",
          "name": "stdout",
          "text": [
            "enter any positive integer3\n",
            "i can\n",
            "i will\n",
            "i can\n"
          ]
        }
      ]
    },
    {
      "cell_type": "markdown",
      "source": [
        "8.we have been given a list of whole numbers which represents the color of each gloves,determine how many pairs of gloves with matching colors there are.for example,there are 7 gloves with colors[1,2,1,2,1,3,2].there is one pair of color1 and one of color 2. there are three odd gloves left,one of each color,the number of pairs is 2.create a function that returns an integer representing the number of matching pairs of gloves that are available."
      ],
      "metadata": {
        "id": "0ePyOepnaS9Y"
      }
    },
    {
      "cell_type": "code",
      "source": [
        "def pair(l1):\n",
        "  \"\"\"gives number of pairs in a list\"\"\"\n",
        "  l1.sort() #sorting the list here\n",
        "  length=len(l1) #finding length using len function\n",
        "  count=0\n",
        "  i=0\n",
        "  while(i<(length-1)):\n",
        "    if(l1[i]==l1[i+1]):\n",
        "      count=count+1\n",
        "      i=i+2\n",
        "    else:\n",
        "      i=i+1\n",
        "      return count\n",
        "l1=[1,2,1,2,1,3,2] #given list\n",
        "pair(l1)"
      ],
      "metadata": {
        "colab": {
          "base_uri": "https://localhost:8080/"
        },
        "id": "WhQf6mqxcJyJ",
        "outputId": "621e6e23-79d7-4416-d4dc-c99dfa805beb"
      },
      "execution_count": 37,
      "outputs": [
        {
          "output_type": "execute_result",
          "data": {
            "text/plain": [
              "1"
            ]
          },
          "metadata": {},
          "execution_count": 37
        }
      ]
    },
    {
      "cell_type": "markdown",
      "source": [
        "9.write a function that returns true if two arrays,when combined,form a consecutive sequence.A consecutive sequence is a sequence without any gaps in the integers,e.g1,2,3,4,5 is a consecutive sequence,but 1,2,4,5 is not.Notes . The input lists will have unique values.\n",
        ".The input  lists can be in any order.\n",
        "Examples\n",
        "consecutive-combo([7,4,5,1],[2,3,6])->true\n",
        "consecutive-combo([1,4,6,5],[2,7,8,9])->false\n",
        "consecutive-combo([1,4,5,6],[2,3,7,8,10])->false\n",
        "consecutive-combo([44,46],[45])->true "
      ],
      "metadata": {
        "id": "p5q5jM4Zejfm"
      }
    },
    {
      "cell_type": "code",
      "source": [
        "def con_seq(l1,l2):\n",
        "  \"\"\"for consequtive sequence\"\"\"\n",
        "  l3=l1+l2 #concatinating the lists\n",
        "  l3.sort()\n",
        "  print(l3)\n",
        "  length=len(l3)\n",
        "  for i in range (1,length):\n",
        "     if(l3[i]!=(l3[i-1]+1)):\n",
        "        return False\n",
        "        return True\n",
        "l1=[3,5,4]\n",
        "l2=[1,6]\n",
        "con_seq(l1,l2)"
      ],
      "metadata": {
        "colab": {
          "base_uri": "https://localhost:8080/"
        },
        "id": "oBQiM9bPhhMm",
        "outputId": "41ccc98b-27b9-4d14-ca9a-7e40e212aacc"
      },
      "execution_count": 40,
      "outputs": [
        {
          "output_type": "stream",
          "name": "stdout",
          "text": [
            "[1, 3, 4, 5, 6]\n"
          ]
        },
        {
          "output_type": "execute_result",
          "data": {
            "text/plain": [
              "False"
            ]
          },
          "metadata": {},
          "execution_count": 40
        }
      ]
    },
    {
      "cell_type": "markdown",
      "source": [
        "10.you work for a manufacturer,and have been asked to calculate the total profit made on the sales of a product.Yo are given a dictionary containing the cost price per unit (in dollars),sell price per unit(in dollars),and the starting inventory. Return the total profit made,rounded to the nearest dollar.\n",
        "Examples\n",
        "profit({\n",
        "  \"cost_price\":32.67,\n",
        "  \"sell_price\":45.00,\n",
        "  \"inventory\":1200\n",
        "}) ->14796  "
      ],
      "metadata": {
        "id": "l6uxG00Pjvsd"
      }
    },
    {
      "cell_type": "code",
      "source": [
        "d={\"cost_price\":32.67,\"sell_price\":45.00} #providing the information about product\n",
        "inventory=1200\n",
        "a=d.get(\"cost_price\") #taking cost price from the dict and storing in a\n",
        "b=d.get(\"sell_price\") #taking sell price from the dict and storing in b\n",
        "profit=(b-a)*inventory #calculating the profit\n",
        "print (profit) "
      ],
      "metadata": {
        "colab": {
          "base_uri": "https://localhost:8080/"
        },
        "id": "IU90iHmWlw7I",
        "outputId": "7874b04d-50f7-431e-b242-5697c6dc6b5e"
      },
      "execution_count": 42,
      "outputs": [
        {
          "output_type": "stream",
          "name": "stdout",
          "text": [
            "14795.999999999998\n"
          ]
        }
      ]
    }
  ]
}